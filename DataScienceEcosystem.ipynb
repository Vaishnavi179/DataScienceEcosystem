{
 "cells": [
  {
   "cell_type": "markdown",
   "id": "58f7d2e1",
   "metadata": {},
   "source": [
    "# Data Science Tools and Ecosystem"
   ]
  },
  {
   "cell_type": "markdown",
   "id": "6a10df93",
   "metadata": {},
   "source": [
    "### In this notebook, Data Science Tools and Ecosystem are summarized. "
   ]
  },
  {
   "cell_type": "markdown",
   "id": "75eab15e",
   "metadata": {},
   "source": [
    "##### **Objectives:** #####\n",
    "- Popular data science languages\n",
    "- Commnly used libraries in data science\n",
    "- tools of data sciences\n",
    "- how to evaluate simple arithmatic operation in Jupyter Notebook\n",
    "- how to write simple code in Jupyter Notebook "
   ]
  },
  {
   "cell_type": "markdown",
   "id": "ab0cd893",
   "metadata": {},
   "source": [
    "##### Some of the popular languages that Data Scientists use are:\n",
    "1. Python programming language\n",
    "2. Structured Query language i.e., SQL\n",
    "3. R-language \n",
    "4. Java\n",
    "5. Scala\n",
    "6. Julia\n",
    "7. Go"
   ]
  },
  {
   "cell_type": "markdown",
   "id": "e5ec2da6",
   "metadata": {},
   "source": [
    "##### Some of the commnly used libraries used by Data Scientists include:\n",
    "1. TensorFlow\n",
    "2. NumPy\n",
    "3. SciPy\n",
    "4. Scikit-learn\n",
    "5. PyTorch\n",
    "6. Pandas\n",
    "7. Matplotlib"
   ]
  },
  {
   "cell_type": "markdown",
   "id": "75bf5c05",
   "metadata": {},
   "source": [
    "|Data Science Tools|\n",
    "|------------------|\n",
    "|Python|\n",
    "|R-studio|\n",
    "|SQL|\n",
    "|Apache Haddop|\n",
    "|Excel|\n",
    "|MATLAB|\n",
    "|GitHub|"
   ]
  },
  {
   "cell_type": "markdown",
   "id": "2f026ba7",
   "metadata": {},
   "source": [
    "### Below are a few examples of evaluating arithmatic expressions in python"
   ]
  },
  {
   "cell_type": "code",
   "execution_count": 1,
   "id": "8f7ca039",
   "metadata": {},
   "outputs": [
    {
     "data": {
      "text/plain": [
       "17"
      ]
     },
     "execution_count": 1,
     "metadata": {},
     "output_type": "execute_result"
    }
   ],
   "source": [
    "# This is a simple arithmaetic expression to multiply then add integers\n",
    "(3*4)+5 "
   ]
  },
  {
   "cell_type": "code",
   "execution_count": 2,
   "id": "c02472a1",
   "metadata": {},
   "outputs": [
    {
     "name": "stdout",
     "output_type": "stream",
     "text": [
      "200 minutes =  3.3333333333333335\n"
     ]
    }
   ],
   "source": [
    "# This will convert 200 minutes to hours dividing by 60\n",
    "# hours = minutes / 60 \n",
    "minutes = 200 \n",
    "hours = minutes/60\n",
    "print(\"200 minutes = \", hours)"
   ]
  },
  {
   "cell_type": "markdown",
   "id": "a3343ce0",
   "metadata": {},
   "source": [
    "## Author  \n",
    "Vaishnavi Patel"
   ]
  },
  {
   "cell_type": "code",
   "execution_count": null,
   "id": "fef991c6",
   "metadata": {},
   "outputs": [],
   "source": []
  }
 ],
 "metadata": {
  "kernelspec": {
   "display_name": "Python 3 (ipykernel)",
   "language": "python",
   "name": "python3"
  },
  "language_info": {
   "codemirror_mode": {
    "name": "ipython",
    "version": 3
   },
   "file_extension": ".py",
   "mimetype": "text/x-python",
   "name": "python",
   "nbconvert_exporter": "python",
   "pygments_lexer": "ipython3",
   "version": "3.9.13"
  }
 },
 "nbformat": 4,
 "nbformat_minor": 5
}
